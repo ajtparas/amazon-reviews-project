{
 "cells": [
  {
   "cell_type": "code",
   "execution_count": 2,
   "metadata": {
    "collapsed": true,
    "pycharm": {
     "is_executing": false
    }
   },
   "outputs": [],
   "source": [
    "# Methods to unpack json file and import as pandas data frame\n",
    "import json\n",
    "import pandas as pd\n",
    "import gzip\n",
    "\n",
    "def parse(path):\n",
    "  g = gzip.open(path, 'rb')\n",
    "  for l in g:\n",
    "    yield json.loads(l)\n",
    "\n",
    "def getDF(path):\n",
    "  i = 0\n",
    "  df = {}\n",
    "  for d in parse(path):\n",
    "    df[i] = d\n",
    "    i += 1\n",
    "  return pd.DataFrame.from_dict(df, orient='index')\n",
    "\n",
    "\n",
    "df = getDF('Software_5.json.gz')"
   ]
  },
  {
   "cell_type": "code",
   "execution_count": 4,
   "metadata": {
    "pycharm": {
     "is_executing": false,
     "name": "#%%\n"
    }
   },
   "outputs": [
    {
     "data": {
      "text/plain": [
       "['overall',\n",
       " 'verified',\n",
       " 'reviewTime',\n",
       " 'reviewerID',\n",
       " 'asin',\n",
       " 'style',\n",
       " 'reviewerName',\n",
       " 'reviewText',\n",
       " 'summary',\n",
       " 'unixReviewTime',\n",
       " 'vote',\n",
       " 'image']"
      ]
     },
     "execution_count": 4,
     "metadata": {},
     "output_type": "execute_result"
    }
   ],
   "source": [
    "list(df.columns)"
   ]
  },
  {
   "cell_type": "code",
   "execution_count": 5,
   "metadata": {
    "pycharm": {
     "is_executing": false,
     "name": "#%%\n"
    }
   },
   "outputs": [
    {
     "data": {
      "text/html": [
       "<div>\n",
       "<style scoped>\n",
       "    .dataframe tbody tr th:only-of-type {\n",
       "        vertical-align: middle;\n",
       "    }\n",
       "\n",
       "    .dataframe tbody tr th {\n",
       "        vertical-align: top;\n",
       "    }\n",
       "\n",
       "    .dataframe thead th {\n",
       "        text-align: right;\n",
       "    }\n",
       "</style>\n",
       "<table border=\"1\" class=\"dataframe\">\n",
       "  <thead>\n",
       "    <tr style=\"text-align: right;\">\n",
       "      <th></th>\n",
       "      <th>overall</th>\n",
       "      <th>reviewText</th>\n",
       "      <th>summary</th>\n",
       "    </tr>\n",
       "  </thead>\n",
       "  <tbody>\n",
       "    <tr>\n",
       "      <th>0</th>\n",
       "      <td>4.0</td>\n",
       "      <td>I've been using Dreamweaver (and it's predeces...</td>\n",
       "      <td>A solid overview of Dreamweaver CS5</td>\n",
       "    </tr>\n",
       "    <tr>\n",
       "      <th>1</th>\n",
       "      <td>4.0</td>\n",
       "      <td>The demo is done with the PC version, with ref...</td>\n",
       "      <td>A good value</td>\n",
       "    </tr>\n",
       "    <tr>\n",
       "      <th>2</th>\n",
       "      <td>5.0</td>\n",
       "      <td>If you've been wanting to learn how to create ...</td>\n",
       "      <td>This is excellent software for those who want ...</td>\n",
       "    </tr>\n",
       "    <tr>\n",
       "      <th>3</th>\n",
       "      <td>5.0</td>\n",
       "      <td>I've been creating websites with Dreamweaver f...</td>\n",
       "      <td>A Fantastic Overview of Dream Weaver and Web D...</td>\n",
       "    </tr>\n",
       "    <tr>\n",
       "      <th>4</th>\n",
       "      <td>5.0</td>\n",
       "      <td>I decided (after trying a number of other prod...</td>\n",
       "      <td>Excellent Tutorials!</td>\n",
       "    </tr>\n",
       "    <tr>\n",
       "      <th>...</th>\n",
       "      <td>...</td>\n",
       "      <td>...</td>\n",
       "      <td>...</td>\n",
       "    </tr>\n",
       "    <tr>\n",
       "      <th>12800</th>\n",
       "      <td>4.0</td>\n",
       "      <td>When I ordered this it was listed as Photo Edi...</td>\n",
       "      <td>File Management Software with Basic Editing Ca...</td>\n",
       "    </tr>\n",
       "    <tr>\n",
       "      <th>12801</th>\n",
       "      <td>3.0</td>\n",
       "      <td>This software has SO much going on.  Theres a ...</td>\n",
       "      <td>Might not be for the \"novice\"</td>\n",
       "    </tr>\n",
       "    <tr>\n",
       "      <th>12802</th>\n",
       "      <td>4.0</td>\n",
       "      <td>I have used both more complex and less complex...</td>\n",
       "      <td>Great, Inexpensive Software for Those Who Have...</td>\n",
       "    </tr>\n",
       "    <tr>\n",
       "      <th>12803</th>\n",
       "      <td>3.0</td>\n",
       "      <td>Pinnacle Studio 20 Ultimate is a perfectly ser...</td>\n",
       "      <td>Gets the job done ... but not as easy as it sh...</td>\n",
       "    </tr>\n",
       "    <tr>\n",
       "      <th>12804</th>\n",
       "      <td>4.0</td>\n",
       "      <td>A program that is fairly easy to use and provi...</td>\n",
       "      <td>Good overall program.</td>\n",
       "    </tr>\n",
       "  </tbody>\n",
       "</table>\n",
       "<p>12805 rows × 3 columns</p>\n",
       "</div>"
      ],
      "text/plain": [
       "       overall                                         reviewText  \\\n",
       "0          4.0  I've been using Dreamweaver (and it's predeces...   \n",
       "1          4.0  The demo is done with the PC version, with ref...   \n",
       "2          5.0  If you've been wanting to learn how to create ...   \n",
       "3          5.0  I've been creating websites with Dreamweaver f...   \n",
       "4          5.0  I decided (after trying a number of other prod...   \n",
       "...        ...                                                ...   \n",
       "12800      4.0  When I ordered this it was listed as Photo Edi...   \n",
       "12801      3.0  This software has SO much going on.  Theres a ...   \n",
       "12802      4.0  I have used both more complex and less complex...   \n",
       "12803      3.0  Pinnacle Studio 20 Ultimate is a perfectly ser...   \n",
       "12804      4.0  A program that is fairly easy to use and provi...   \n",
       "\n",
       "                                                 summary  \n",
       "0                    A solid overview of Dreamweaver CS5  \n",
       "1                                           A good value  \n",
       "2      This is excellent software for those who want ...  \n",
       "3      A Fantastic Overview of Dream Weaver and Web D...  \n",
       "4                                   Excellent Tutorials!  \n",
       "...                                                  ...  \n",
       "12800  File Management Software with Basic Editing Ca...  \n",
       "12801                      Might not be for the \"novice\"  \n",
       "12802  Great, Inexpensive Software for Those Who Have...  \n",
       "12803  Gets the job done ... but not as easy as it sh...  \n",
       "12804                              Good overall program.  \n",
       "\n",
       "[12805 rows x 3 columns]"
      ]
     },
     "execution_count": 5,
     "metadata": {},
     "output_type": "execute_result"
    }
   ],
   "source": [
    "df[['overall', 'reviewText', 'summary']]"
   ]
  },
  {
   "cell_type": "code",
   "execution_count": null,
   "metadata": {
    "pycharm": {
     "name": "#%%\n"
    }
   },
   "outputs": [],
   "source": [
    "\n"
   ]
  }
 ],
 "metadata": {
  "kernelspec": {
   "display_name": "Python 3",
   "language": "python",
   "name": "python3"
  },
  "language_info": {
   "codemirror_mode": {
    "name": "ipython",
    "version": 3
   },
   "file_extension": ".py",
   "mimetype": "text/x-python",
   "name": "python",
   "nbconvert_exporter": "python",
   "pygments_lexer": "ipython3",
   "version": "3.8.8"
  },
  "pycharm": {
   "stem_cell": {
    "cell_type": "raw",
    "metadata": {
     "collapsed": false
    },
    "source": []
   }
  }
 },
 "nbformat": 4,
 "nbformat_minor": 1
}
